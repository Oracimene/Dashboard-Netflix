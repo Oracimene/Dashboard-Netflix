{
 "cells": [
  {
   "cell_type": "code",
   "execution_count": null,
   "id": "cd154a5c",
   "metadata": {},
   "outputs": [],
   "source": [
    "from collections import Counter"
   ]
  },
  {
   "cell_type": "code",
   "execution_count": null,
   "id": "55f319bd",
   "metadata": {},
   "outputs": [],
   "source": [
    "import pandas as pd\n",
    "import matplotlib.pyplot as plt\n",
    "import seaborn as sns"
   ]
  },
  {
   "cell_type": "code",
   "execution_count": null,
   "id": "074c327b",
   "metadata": {},
   "outputs": [],
   "source": [
    "df = pd.read_csv(\"Netflix.csv\")"
   ]
  },
  {
   "cell_type": "code",
   "execution_count": null,
   "id": "e24e48d9",
   "metadata": {},
   "outputs": [],
   "source": [
    "df.head(5)"
   ]
  },
  {
   "cell_type": "code",
   "execution_count": null,
   "id": "acbd2a5a",
   "metadata": {},
   "outputs": [],
   "source": [
    "df = df.drop(columns=[\"duration\"])"
   ]
  },
  {
   "cell_type": "code",
   "execution_count": null,
   "id": "1f5f98dd",
   "metadata": {},
   "outputs": [],
   "source": [
    "df.head(5)"
   ]
  },
  {
   "cell_type": "code",
   "execution_count": null,
   "id": "6e107541",
   "metadata": {},
   "outputs": [],
   "source": [
    "# Preencher os valores perdidos com Unknown\n",
    "df[\"director\"] = df[\"director\"].fillna(\"Unknown\")\n",
    "df[\"cast\"] = df[\"cast\"].fillna(\"Unknown\")\n",
    "df[\"country\"] = df[\"country\"].fillna(\"Unknown\")\n",
    "df[\"genres\"] = df[\"genres\"].fillna(\"Unknown\")\n",
    "df[\"description\"] = df[\"description\"].fillna(\"No description\")\n",
    "\n",
    "# Converter data e lidar com possíveis erros\n",
    "df[\"date_added\"] = pd.to_datetime(df[\"date_added\"], errors=\"coerce\")"
   ]
  },
  {
   "cell_type": "code",
   "execution_count": null,
   "id": "b17bcc81",
   "metadata": {},
   "outputs": [],
   "source": [
    "df.info()"
   ]
  },
  {
   "cell_type": "code",
   "execution_count": null,
   "id": "4acacbca",
   "metadata": {},
   "outputs": [],
   "source": [
    "df[\"type\"] = df[\"type\"].astype(\"category\")\n",
    "df[\"language\"] = df[\"language\"].astype(\"category\")\n",
    "df['genres'] = df['genres'].str.split(',').apply(\n",
    "    lambda x: [genre.strip() for genre in x] if isinstance(x, list) else []\n",
    ")"
   ]
  },
  {
   "cell_type": "code",
   "execution_count": null,
   "id": "9317278b",
   "metadata": {},
   "outputs": [],
   "source": [
    "df.head(10)"
   ]
  },
  {
   "cell_type": "code",
   "execution_count": null,
   "id": "c50a185d",
   "metadata": {},
   "outputs": [],
   "source": [
    "df['type'].value_counts(normalize=True)"
   ]
  },
  {
   "cell_type": "code",
   "execution_count": null,
   "id": "91ae3f6b",
   "metadata": {},
   "outputs": [],
   "source": [
    "df['year_added'] = df['date_added'].dt.year\n",
    "yearly_additions = df.groupby('year_added').size()"
   ]
  },
  {
   "cell_type": "code",
   "execution_count": null,
   "id": "c1a38e90",
   "metadata": {},
   "outputs": [],
   "source": [
    "df.isnull().sum()"
   ]
  },
  {
   "cell_type": "code",
   "execution_count": 81,
   "id": "b23206f6",
   "metadata": {},
   "outputs": [],
   "source": [
    "df['genres'] = df['genres'].str.split(',')  # Divide por vírgulas\n",
    "df['genres'] = df['genres'].apply(\n",
    "    lambda x: [genre.strip() for genre in x if genre.strip()] \n",
    "    if isinstance(x, list) else []\n",
    ")"
   ]
  },
  {
   "cell_type": "code",
   "execution_count": null,
   "id": "2ffcb880",
   "metadata": {},
   "outputs": [],
   "source": [
    "generos = [genre for sublist in df['genres'] for genre in sublist]\n",
    "contGeneros = Counter(generos).most_common(10)"
   ]
  },
  {
   "cell_type": "code",
   "execution_count": null,
   "id": "9f72efd4",
   "metadata": {},
   "outputs": [],
   "source": [
    "generos"
   ]
  },
  {
   "cell_type": "code",
   "execution_count": null,
   "id": "d33ccbde",
   "metadata": {},
   "outputs": [],
   "source": [
    "contGeneros"
   ]
  },
  {
   "cell_type": "code",
   "execution_count": null,
   "id": "dda208d9",
   "metadata": {},
   "outputs": [],
   "source": [
    "df['country'] = df['country'].str.split(',').str[0]"
   ]
  },
  {
   "cell_type": "code",
   "execution_count": null,
   "id": "bc9c83a1",
   "metadata": {},
   "outputs": [],
   "source": [
    "if 'release_year' in df.columns:\n",
    "    df['decade'] = (df['release_year']//10)*10"
   ]
  }
 ],
 "metadata": {
  "kernelspec": {
   "display_name": ".venv",
   "language": "python",
   "name": "python3"
  },
  "language_info": {
   "codemirror_mode": {
    "name": "ipython",
    "version": 3
   },
   "file_extension": ".py",
   "mimetype": "text/x-python",
   "name": "python",
   "nbconvert_exporter": "python",
   "pygments_lexer": "ipython3",
   "version": "3.12.9"
  }
 },
 "nbformat": 4,
 "nbformat_minor": 5
}
